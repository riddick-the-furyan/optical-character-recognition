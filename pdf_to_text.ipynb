{
  "nbformat": 4,
  "nbformat_minor": 0,
  "metadata": {
    "colab": {
      "provenance": []
    },
    "kernelspec": {
      "name": "python3",
      "display_name": "Python 3"
    },
    "language_info": {
      "name": "python"
    }
  },
  "cells": [
    {
      "cell_type": "markdown",
      "source": [
        "# Install Depedencies"
      ],
      "metadata": {
        "id": "yOkMXwmUgeso"
      }
    },
    {
      "cell_type": "code",
      "execution_count": 1,
      "metadata": {
        "colab": {
          "base_uri": "https://localhost:8080/"
        },
        "id": "j6ePdjbgLAFV",
        "outputId": "dd6ff063-c0d7-4f09-f6ad-ac4c42c74fa2"
      },
      "outputs": [
        {
          "output_type": "stream",
          "name": "stdout",
          "text": [
            "Collecting pytesseract\n",
            "  Downloading pytesseract-0.3.13-py3-none-any.whl.metadata (11 kB)\n",
            "Collecting pdf2image\n",
            "  Downloading pdf2image-1.17.0-py3-none-any.whl.metadata (6.2 kB)\n",
            "Collecting poppler-utils\n",
            "  Downloading poppler_utils-0.1.0-py3-none-any.whl.metadata (883 bytes)\n",
            "Requirement already satisfied: packaging>=21.3 in /usr/local/lib/python3.10/dist-packages (from pytesseract) (24.1)\n",
            "Requirement already satisfied: Pillow>=8.0.0 in /usr/local/lib/python3.10/dist-packages (from pytesseract) (9.4.0)\n",
            "Requirement already satisfied: Click>=7.0 in /usr/local/lib/python3.10/dist-packages (from poppler-utils) (8.1.7)\n",
            "Downloading pytesseract-0.3.13-py3-none-any.whl (14 kB)\n",
            "Downloading pdf2image-1.17.0-py3-none-any.whl (11 kB)\n",
            "Downloading poppler_utils-0.1.0-py3-none-any.whl (9.2 kB)\n",
            "Installing collected packages: pytesseract, poppler-utils, pdf2image\n",
            "Successfully installed pdf2image-1.17.0 poppler-utils-0.1.0 pytesseract-0.3.13\n"
          ]
        }
      ],
      "source": [
        "pip install pytesseract pdf2image poppler-utils --upgrade"
      ]
    },
    {
      "cell_type": "code",
      "source": [
        "!sudo apt install poppler-utils"
      ],
      "metadata": {
        "colab": {
          "base_uri": "https://localhost:8080/"
        },
        "id": "j7xWzsqWhrEo",
        "outputId": "23a11958-4864-4c6b-e2a9-098dbd52581b"
      },
      "execution_count": 2,
      "outputs": [
        {
          "output_type": "stream",
          "name": "stdout",
          "text": [
            "Reading package lists... Done\n",
            "Building dependency tree... Done\n",
            "Reading state information... Done\n",
            "The following NEW packages will be installed:\n",
            "  poppler-utils\n",
            "0 upgraded, 1 newly installed, 0 to remove and 45 not upgraded.\n",
            "Need to get 186 kB of archives.\n",
            "After this operation, 696 kB of additional disk space will be used.\n",
            "Get:1 http://archive.ubuntu.com/ubuntu jammy-updates/main amd64 poppler-utils amd64 22.02.0-2ubuntu0.5 [186 kB]\n",
            "Fetched 186 kB in 1s (230 kB/s)\n",
            "debconf: unable to initialize frontend: Dialog\n",
            "debconf: (No usable dialog-like program is installed, so the dialog based frontend cannot be used. at /usr/share/perl5/Debconf/FrontEnd/Dialog.pm line 78, <> line 1.)\n",
            "debconf: falling back to frontend: Readline\n",
            "debconf: unable to initialize frontend: Readline\n",
            "debconf: (This frontend requires a controlling tty.)\n",
            "debconf: falling back to frontend: Teletype\n",
            "dpkg-preconfigure: unable to re-open stdin: \n",
            "Selecting previously unselected package poppler-utils.\n",
            "(Reading database ... 123594 files and directories currently installed.)\n",
            "Preparing to unpack .../poppler-utils_22.02.0-2ubuntu0.5_amd64.deb ...\n",
            "Unpacking poppler-utils (22.02.0-2ubuntu0.5) ...\n",
            "Setting up poppler-utils (22.02.0-2ubuntu0.5) ...\n",
            "Processing triggers for man-db (2.10.2-1) ...\n"
          ]
        }
      ]
    },
    {
      "cell_type": "code",
      "source": [
        "!sudo apt install tesseract-ocr"
      ],
      "metadata": {
        "colab": {
          "base_uri": "https://localhost:8080/"
        },
        "id": "p1ImL2kel2-e",
        "outputId": "a095bd53-0de6-43b5-f128-fd3b910ad771"
      },
      "execution_count": 3,
      "outputs": [
        {
          "output_type": "stream",
          "name": "stdout",
          "text": [
            "Reading package lists... Done\n",
            "Building dependency tree... Done\n",
            "Reading state information... Done\n",
            "The following additional packages will be installed:\n",
            "  tesseract-ocr-eng tesseract-ocr-osd\n",
            "The following NEW packages will be installed:\n",
            "  tesseract-ocr tesseract-ocr-eng tesseract-ocr-osd\n",
            "0 upgraded, 3 newly installed, 0 to remove and 45 not upgraded.\n",
            "Need to get 4,816 kB of archives.\n",
            "After this operation, 15.6 MB of additional disk space will be used.\n",
            "Get:1 http://archive.ubuntu.com/ubuntu jammy/universe amd64 tesseract-ocr-eng all 1:4.00~git30-7274cfa-1.1 [1,591 kB]\n",
            "Get:2 http://archive.ubuntu.com/ubuntu jammy/universe amd64 tesseract-ocr-osd all 1:4.00~git30-7274cfa-1.1 [2,990 kB]\n",
            "Get:3 http://archive.ubuntu.com/ubuntu jammy/universe amd64 tesseract-ocr amd64 4.1.1-2.1build1 [236 kB]\n",
            "Fetched 4,816 kB in 1s (3,565 kB/s)\n",
            "debconf: unable to initialize frontend: Dialog\n",
            "debconf: (No usable dialog-like program is installed, so the dialog based frontend cannot be used. at /usr/share/perl5/Debconf/FrontEnd/Dialog.pm line 78, <> line 3.)\n",
            "debconf: falling back to frontend: Readline\n",
            "debconf: unable to initialize frontend: Readline\n",
            "debconf: (This frontend requires a controlling tty.)\n",
            "debconf: falling back to frontend: Teletype\n",
            "dpkg-preconfigure: unable to re-open stdin: \n",
            "Selecting previously unselected package tesseract-ocr-eng.\n",
            "(Reading database ... 123624 files and directories currently installed.)\n",
            "Preparing to unpack .../tesseract-ocr-eng_1%3a4.00~git30-7274cfa-1.1_all.deb ...\n",
            "Unpacking tesseract-ocr-eng (1:4.00~git30-7274cfa-1.1) ...\n",
            "Selecting previously unselected package tesseract-ocr-osd.\n",
            "Preparing to unpack .../tesseract-ocr-osd_1%3a4.00~git30-7274cfa-1.1_all.deb ...\n",
            "Unpacking tesseract-ocr-osd (1:4.00~git30-7274cfa-1.1) ...\n",
            "Selecting previously unselected package tesseract-ocr.\n",
            "Preparing to unpack .../tesseract-ocr_4.1.1-2.1build1_amd64.deb ...\n",
            "Unpacking tesseract-ocr (4.1.1-2.1build1) ...\n",
            "Setting up tesseract-ocr-eng (1:4.00~git30-7274cfa-1.1) ...\n",
            "Setting up tesseract-ocr-osd (1:4.00~git30-7274cfa-1.1) ...\n",
            "Setting up tesseract-ocr (4.1.1-2.1build1) ...\n",
            "Processing triggers for man-db (2.10.2-1) ...\n"
          ]
        }
      ]
    },
    {
      "cell_type": "markdown",
      "source": [
        "#Source Code"
      ],
      "metadata": {
        "id": "6CZvNeBk0A1n"
      }
    },
    {
      "cell_type": "code",
      "source": [
        "# import modules\n",
        "from pdf2image import convert_from_path\n",
        "import numpy as np\n",
        "import cv2\n",
        "import pytesseract\n",
        "\n",
        "\n",
        "class ImagePreprocessing:\n",
        "\n",
        "    def __init__(self, pdf_path):\n",
        "        self.pdf_path = pdf_path\n",
        "\n",
        "    def pdf_to_images(self):\n",
        "        return convert_from_path(pdf_path=self.pdf_path)[0]\n",
        "\n",
        "    def scaling(self):\n",
        "        return np.array(self.pdf_to_images())\n",
        "\n",
        "    def image_to_text(self):\n",
        "        return pytesseract.image_to_string(cv2.cvtColor(self.scaling(), cv2.COLOR_BGR2RGB), lang ='eng', config=\"stdout\" )\n"
      ],
      "metadata": {
        "id": "g6WCqdghgp-V"
      },
      "execution_count": 5,
      "outputs": []
    },
    {
      "cell_type": "code",
      "source": [
        "#path declaration\n",
        "pdf_path = \"Meno.pdf\"\n",
        "pytesseract.pytesseract.cmd = r\"/usr/local/bin/pytesseract\"\n",
        "\n",
        "#creating new instance of image preprocessing class\n",
        "new_ip = ImagePreprocessing(pdf_path)"
      ],
      "metadata": {
        "id": "yENya1ucvOwq"
      },
      "execution_count": 7,
      "outputs": []
    },
    {
      "cell_type": "code",
      "source": [
        "new_ip.image_to_text()"
      ],
      "metadata": {
        "colab": {
          "base_uri": "https://localhost:8080/",
          "height": 218
        },
        "id": "DZqixpdPvcnx",
        "outputId": "f18e4633-0eea-496b-aa28-15d585785c0b"
      },
      "execution_count": 8,
      "outputs": [
        {
          "output_type": "execute_result",
          "data": {
            "text/plain": [
              "\"MENO\\n\\nBy Plato\\n\\nTranslated by Lee Perlman\\n\\nThe bold numbers and letters are universal ‘stephanus’ page numbers,\\n\\nwhich provide a common reference between different translations\\n\\nPERSONS OF THE DIALOGUE: Meno, Socrates, A Slave of Meno\\n(Boy), Anytus.\\n\\n70 MENO: Can you tell me‘, Socrates, whether areté is something that can\\n\\nbe taught; or if not through teaching, through practice, or if neither by\\npractice nor through learning, does it accrue to humans by nature, or in some\\nother way?\\n\\nSOCRATES: Meno, the Thessalians used to be held in high repute and\\nmarveled B at among the Greeks for their horsemanship and their riches, but\\n\\nnow, it seems to me, also for wisdom, not least the citizens of Larissa, the\\ncity of your companion Aristippus. The cause of this is Gorgias. For he came\\nto the city and made the foremost of the Aleuadae lovers of his wisdom,\\n\\namong them your lover” Aristippus, as well as the other Thessalians. And he\\naccustomed you to the habit Cc of answering any question asked of you\\n\\nfearlessly and magnificently, exactly like those who know; just as he himself\\nstands ready for any question a Greek wishes to ask, and never fails to\\n\\nanswer. But in this region, dear Meno, the opposite has come to pass. There\\n\\n' Exeis moi epein means literally ‘Do you have it to tell me?” There is some reason to think that Plato\\nplayed with the conventions of the epic tradition, in which the first word set the theme for the entire poem.\\nHere, this would suggest that the question of whether knowledge is a kind of ‘having’ or possession is\\ncentral to the Meno. The question certainly comes up in Plato’s other dialogue that explicitly concerns\\nknowledge. See Theaetetus xxxx in the stranger’s debunking of the model of seeking knowledge as hunting\\nbirds in a bird cage. Certainly there the question is what it means to ‘have’ knowledge. The phrase could\\nalso mean something like “Tell me, if you have it in you...” That is, it could have a challenging tone. See\\nKlein pg. 40\\n\\n? Notice here the connection between Larissa and lovers. This theme will be revisited later in the dialogue\\nas a clue to the nature of knowledge.\\n\\x0c\""
            ],
            "application/vnd.google.colaboratory.intrinsic+json": {
              "type": "string"
            }
          },
          "metadata": {},
          "execution_count": 8
        }
      ]
    }
  ]
}